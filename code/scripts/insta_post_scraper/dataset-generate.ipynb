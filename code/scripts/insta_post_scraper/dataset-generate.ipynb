{
 "cells": [
  {
   "cell_type": "code",
   "execution_count": 62,
   "metadata": {},
   "outputs": [],
   "source": [
    "import os\n",
    "import csv\n",
    "import json\n",
    "import numpy as np\n",
    "import pandas as pd\n",
    "\n",
    "from tqdm import tqdm_notebook\n",
    "from collections import Counter"
   ]
  },
  {
   "cell_type": "code",
   "execution_count": 63,
   "metadata": {},
   "outputs": [],
   "source": [
    "root_dir = \"/media/iiit/EXTERNAL/hashtag_data\"\n",
    "post_set = set()\n",
    "hashtags_list = []\n",
    "for file in os.listdir(root_dir):\n",
    "    if \".json\" in file:\n",
    "        file_name, ext = os.path.splitext(file)\n",
    "        json_path = os.path.join(root_dir, file)\n",
    "\n",
    "        with open(json_path, 'r') as f2:\n",
    "            json_data = json.load(f2)\n",
    "            for post in json_data:\n",
    "                post_id = json_data[post][\"id\"]\n",
    "                post_set.add(post_id)\n",
    "                text = json_data[post]['text_des'].lower()\n",
    "                words = text.split(\" \")\n",
    "                for cur_word in words:\n",
    "                    if \"#\" in cur_word:\n",
    "                        hashtags_list.append(cur_word)"
   ]
  },
  {
   "cell_type": "code",
   "execution_count": 64,
   "metadata": {},
   "outputs": [
    {
     "data": {
      "text/plain": [
       "['#travel',\n",
       " '#travelphotography',\n",
       " '#travelgram',\n",
       " '#travelblogger',\n",
       " '#instatravel']"
      ]
     },
     "execution_count": 64,
     "metadata": {},
     "output_type": "execute_result"
    }
   ],
   "source": [
    "hashtags_counter = Counter(hashtags_list)\n",
    "top_100_hashtags = [hashtag for (hashtag, val) in hashtags_counter.most_common(100)]\n",
    "top_100_hashtags[:5]"
   ]
  },
  {
   "cell_type": "code",
   "execution_count": 65,
   "metadata": {},
   "outputs": [],
   "source": [
    "root_dir = \"/media/iiit/EXTERNAL/hashtag_data\"\n",
    "num_labels_list = []\n",
    "with open(\"data.csv\", \"w\") as f1:\n",
    "    writer = csv.writer(f1, delimiter=\" \")\n",
    "    writer.writerow([\"image_path\", \"hashtags\"])\n",
    "    \n",
    "    for file in os.listdir(root_dir):\n",
    "        if \".json\" in file:\n",
    "            file_name, ext = os.path.splitext(file)\n",
    "            json_path = os.path.join(root_dir, file)\n",
    "            \n",
    "            with open(json_path, 'r') as f2:\n",
    "                json_data = json.load(f2)\n",
    "                for post in json_data:\n",
    "                    post_id = json_data[post][\"id\"]\n",
    "                    text = json_data[post]['text_des'].lower()\n",
    "                    list_tags = []\n",
    "                    for tag in top_100_hashtags:\n",
    "                        if tag in text:\n",
    "                            list_tags.append(tag.replace('#',''))\n",
    "                    \n",
    "                    img_path = os.path.join(file_name, post_id)\n",
    "                    img_complete_path = os.path.join(root_dir, img_path)\n",
    "                    if os.path.exists(img_complete_path):\n",
    "                        if len(list_tags) <= 7 and len(list_tags) > 0:\n",
    "                            num_labels_list.append(len(list_tags))\n",
    "                            writer.writerow([img_path, ','.join(list_tags)])"
   ]
  },
  {
   "cell_type": "code",
   "execution_count": 66,
   "metadata": {},
   "outputs": [
    {
     "name": "stdout",
     "output_type": "stream",
     "text": [
      "Mean number of labels: 4.060648089774303\n"
     ]
    }
   ],
   "source": [
    "print(\"Mean number of labels: {}\".format(np.mean(num_labels_list)))"
   ]
  },
  {
   "cell_type": "code",
   "execution_count": 67,
   "metadata": {},
   "outputs": [
    {
     "data": {
      "text/html": [
       "<div>\n",
       "<style scoped>\n",
       "    .dataframe tbody tr th:only-of-type {\n",
       "        vertical-align: middle;\n",
       "    }\n",
       "\n",
       "    .dataframe tbody tr th {\n",
       "        vertical-align: top;\n",
       "    }\n",
       "\n",
       "    .dataframe thead th {\n",
       "        text-align: right;\n",
       "    }\n",
       "</style>\n",
       "<table border=\"1\" class=\"dataframe\">\n",
       "  <thead>\n",
       "    <tr style=\"text-align: right;\">\n",
       "      <th></th>\n",
       "      <th>image_path</th>\n",
       "      <th>hashtags</th>\n",
       "    </tr>\n",
       "  </thead>\n",
       "  <tbody>\n",
       "    <tr>\n",
       "      <th>0</th>\n",
       "      <td>Citytravel/B3WUl6BoAHt</td>\n",
       "      <td>citytravel,city,architecture,art</td>\n",
       "    </tr>\n",
       "    <tr>\n",
       "      <th>1</th>\n",
       "      <td>Citytravel/B3R4txlIkdR</td>\n",
       "      <td>citytravel,city,architecture,art</td>\n",
       "    </tr>\n",
       "    <tr>\n",
       "      <th>2</th>\n",
       "      <td>Citytravel/B3ME05mIpMS</td>\n",
       "      <td>citytravel,city,architecture,art</td>\n",
       "    </tr>\n",
       "    <tr>\n",
       "      <th>3</th>\n",
       "      <td>Citytravel/B3XTYbvlpZa</td>\n",
       "      <td>travel,love,explore,citytravel,travelgirl,city</td>\n",
       "    </tr>\n",
       "    <tr>\n",
       "      <th>4</th>\n",
       "      <td>Citytravel/B3UEHqIBWyr</td>\n",
       "      <td>travel,traveladdict,travels,citytravel,europe,...</td>\n",
       "    </tr>\n",
       "  </tbody>\n",
       "</table>\n",
       "</div>"
      ],
      "text/plain": [
       "               image_path                                           hashtags\n",
       "0  Citytravel/B3WUl6BoAHt                   citytravel,city,architecture,art\n",
       "1  Citytravel/B3R4txlIkdR                   citytravel,city,architecture,art\n",
       "2  Citytravel/B3ME05mIpMS                   citytravel,city,architecture,art\n",
       "3  Citytravel/B3XTYbvlpZa     travel,love,explore,citytravel,travelgirl,city\n",
       "4  Citytravel/B3UEHqIBWyr  travel,traveladdict,travels,citytravel,europe,..."
      ]
     },
     "execution_count": 67,
     "metadata": {},
     "output_type": "execute_result"
    }
   ],
   "source": [
    "from numpy.random import RandomState\n",
    "\n",
    "df = pd.read_csv(\"data.csv\", sep=\" \")\n",
    "df.head()"
   ]
  },
  {
   "cell_type": "code",
   "execution_count": 68,
   "metadata": {},
   "outputs": [],
   "source": [
    "rng = RandomState()\n",
    "train_df = df.sample(frac=0.8, random_state=rng)\n",
    "val_df = df.loc[~df.index.isin(train_df.index)]"
   ]
  },
  {
   "cell_type": "code",
   "execution_count": 69,
   "metadata": {},
   "outputs": [],
   "source": [
    "train_df.to_csv(\"train.csv\", index=False, sep=\" \")\n",
    "val_df.to_csv(\"val.csv\", index=False, sep=\" \")"
   ]
  },
  {
   "cell_type": "code",
   "execution_count": 70,
   "metadata": {},
   "outputs": [
    {
     "data": {
      "text/plain": [
       "'Travellove/B3ZQp7mhUHs'"
      ]
     },
     "execution_count": 70,
     "metadata": {},
     "output_type": "execute_result"
    }
   ],
   "source": [
    "train_df.iloc[0][\"image_path\"]"
   ]
  },
  {
   "cell_type": "code",
   "execution_count": null,
   "metadata": {},
   "outputs": [],
   "source": []
  }
 ],
 "metadata": {
  "kernelspec": {
   "display_name": "Python 3",
   "language": "python",
   "name": "python3"
  },
  "language_info": {
   "codemirror_mode": {
    "name": "ipython",
    "version": 3
   },
   "file_extension": ".py",
   "mimetype": "text/x-python",
   "name": "python",
   "nbconvert_exporter": "python",
   "pygments_lexer": "ipython3",
   "version": "3.7.3"
  }
 },
 "nbformat": 4,
 "nbformat_minor": 2
}