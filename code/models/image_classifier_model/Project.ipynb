{
 "cells": [
  {
   "cell_type": "code",
   "execution_count": 1,
   "metadata": {},
   "outputs": [],
   "source": [
    "import os\n",
    "import time\n",
    "import copy\n",
    "import torch\n",
    "import torchvision\n",
    "import pandas as pd\n",
    "import numpy as np\n",
    "import matplotlib.pyplot as plt\n",
    "import torch.nn as nn\n",
    "import torch.optim as optim\n",
    "\n",
    "from PIL import Image\n",
    "from torch.utils.data import Dataset, DataLoader\n",
    "from torchvision import transforms, utils, models\n",
    "from sklearn.metrics import average_precision_score, recall_score, f1_score"
   ]
  },
  {
   "cell_type": "code",
   "execution_count": 2,
   "metadata": {},
   "outputs": [
    {
     "data": {
      "text/plain": [
       "device(type='cuda', index=0)"
      ]
     },
     "execution_count": 2,
     "metadata": {},
     "output_type": "execute_result"
    }
   ],
   "source": [
    "device = torch.device(\"cuda:0\" if torch.cuda.is_available() else \"cpu\")\n",
    "device"
   ]
  },
  {
   "cell_type": "markdown",
   "metadata": {},
   "source": [
    "### Dataset"
   ]
  },
  {
   "cell_type": "code",
   "execution_count": 3,
   "metadata": {},
   "outputs": [],
   "source": [
    "class HashtagDataset(Dataset):\n",
    "    def __init__(self, root_dir, csv_file, transform=None):\n",
    "        self.root_dir = root_dir\n",
    "        self.hashtag_df = pd.read_csv(csv_file, sep=\" \")\n",
    "        self.transform = transform\n",
    "        self.num_hashtags = 0\n",
    "        self.index2hashtag = {}\n",
    "        self.hashtag2index = {}\n",
    "        self.create_index()\n",
    "    \n",
    "    def create_index(self):\n",
    "        for i, row in self.hashtag_df.iterrows():\n",
    "            hashtags = row[\"hashtags\"].split(\",\")\n",
    "            for hashtag in hashtags:\n",
    "                if hashtag not in self.hashtag2index:\n",
    "                    self.hashtag2index[hashtag] = self.num_hashtags\n",
    "                    self.index2hashtag[self.num_hashtags] = hashtag\n",
    "                    self.num_hashtags += 1\n",
    "    \n",
    "    def __len__(self):\n",
    "        return len(self.hashtag_df)\n",
    "    \n",
    "    def __getitem__(self, idx):\n",
    "        if torch.is_tensor(idx):\n",
    "            idx = idx.tolist()\n",
    "        \n",
    "        img_name = os.path.join(self.root_dir, self.hashtag_df.iloc[idx][\"image_path\"])\n",
    "        image = Image.open(img_name)\n",
    "        image = image.convert('RGB')\n",
    "        \n",
    "        hashtags = self.hashtag_df.iloc[idx][\"hashtags\"]\n",
    "        hashtags_list = hashtags.split(\",\")\n",
    "        \n",
    "        labels = np.zeros(self.num_hashtags)\n",
    "        \n",
    "        for hashtag in hashtags_list:\n",
    "            labels[self.hashtag2index[hashtag]] = 1\n",
    "        \n",
    "        if self.transform:\n",
    "            image = self.transform(image).float()\n",
    "            labels = torch.from_numpy(labels.T).float()\n",
    "        \n",
    "        return image, labels    "
   ]
  },
  {
   "cell_type": "markdown",
   "metadata": {},
   "source": [
    "#### Train and Val Transforms"
   ]
  },
  {
   "cell_type": "code",
   "execution_count": 4,
   "metadata": {},
   "outputs": [],
   "source": [
    "train_transform = transforms.Compose([\n",
    "    transforms.RandomResizedCrop(224),\n",
    "    transforms.RandomHorizontalFlip(),\n",
    "    transforms.ToTensor(),\n",
    "    transforms.Normalize([0.485, 0.456, 0.406], [0.229, 0.224, 0.225])\n",
    "])\n",
    "\n",
    "val_transform = transforms.Compose([\n",
    "    transforms.Resize(256),\n",
    "    transforms.CenterCrop(224),\n",
    "    transforms.ToTensor(),\n",
    "    transforms.Normalize([0.485, 0.456, 0.406], [0.229, 0.224, 0.225])\n",
    "])"
   ]
  },
  {
   "cell_type": "markdown",
   "metadata": {},
   "source": [
    "#### Image visualizations"
   ]
  },
  {
   "cell_type": "code",
   "execution_count": 5,
   "metadata": {},
   "outputs": [],
   "source": [
    "def imshow(inp, title=None):\n",
    "    \"\"\"Imshow for Tensor.\"\"\"\n",
    "    inp = inp.numpy().transpose((1, 2, 0))\n",
    "    mean = np.array([0.485, 0.456, 0.406])\n",
    "    std = np.array([0.229, 0.224, 0.225])\n",
    "    inp = std * inp + mean\n",
    "    inp = np.clip(inp, 0, 1)\n",
    "    plt.imshow(inp)\n",
    "    if title is not None:\n",
    "        plt.title(title)\n",
    "    plt.pause(0.001)  # pause a bit so that plots are updated"
   ]
  },
  {
   "cell_type": "markdown",
   "metadata": {},
   "source": [
    "#### Train and Validation Dataset"
   ]
  },
  {
   "cell_type": "code",
   "execution_count": 6,
   "metadata": {},
   "outputs": [],
   "source": [
    "train_dataset = HashtagDataset(root_dir=\"/scratch/talsperre/hashtag_data\",\n",
    "                               csv_file=\"train.csv\", \n",
    "                               transform=train_transform)\n",
    "\n",
    "val_dataset = HashtagDataset(root_dir=\"/scratch/talsperre/hashtag_data\", \n",
    "                               csv_file=\"val.csv\",\n",
    "                               transform=val_transform)"
   ]
  },
  {
   "cell_type": "markdown",
   "metadata": {},
   "source": [
    "#### Train and Validation dataloader"
   ]
  },
  {
   "cell_type": "code",
   "execution_count": 7,
   "metadata": {},
   "outputs": [],
   "source": [
    "train_dataloader = DataLoader(train_dataset, batch_size=4, shuffle=True, num_workers=4)\n",
    "val_dataloader = DataLoader(val_dataset, batch_size=4, shuffle=True, num_workers=4)"
   ]
  },
  {
   "cell_type": "markdown",
   "metadata": {},
   "source": [
    "#### Visualize images"
   ]
  },
  {
   "cell_type": "code",
   "execution_count": 8,
   "metadata": {},
   "outputs": [
    {
     "data": {
      "image/png": "[encoded data removed]",
      "text/plain": [
       "<Figure size 432x288 with 1 Axes>"
      ]
     },
     "metadata": {
      "needs_background": "light"
     },
     "output_type": "display_data"
    }
   ],
   "source": [
    "# Get a batch of training data\n",
    "inputs, labels = next(iter(train_dataloader))\n",
    "\n",
    "# Make a grid from batch\n",
    "out = torchvision.utils.make_grid(inputs)\n",
    "\n",
    "imshow(out)"
   ]
  },
  {
   "cell_type": "markdown",
   "metadata": {},
   "source": [
    "### Training"
   ]
  },
  {
   "cell_type": "code",
   "execution_count": 9,
   "metadata": {},
   "outputs": [],
   "source": [
    "def compute_precision(labels, outputs):\n",
    "    labels = labels.data.cpu().numpy().astype(np.int16)\n",
    "    outputs = torch.sigmoid(outputs).data > 0.5\n",
    "    outputs = outputs.data.cpu().numpy().astype(np.int16)\n",
    "    \n",
    "    precision = average_precision_score(labels, outputs, average='micro')\n",
    "    return precision"
   ]
  },
  {
   "cell_type": "code",
   "execution_count": 10,
   "metadata": {},
   "outputs": [],
   "source": [
    "def train_model(model, criterion, optimizer, scheduler, num_epochs=25):\n",
    "    since = time.time()\n",
    "\n",
    "    best_model_wts = copy.deepcopy(model.state_dict())\n",
    "    best_prec = 0.0\n",
    "    \n",
    "    epoch_train_loss = []\n",
    "    epoch_val_loss = []\n",
    "    for epoch in range(num_epochs):\n",
    "        print('Epoch {}/{}'.format(epoch, num_epochs - 1))\n",
    "        print('-' * 10)\n",
    "        \n",
    "        # Each epoch has a training and validation phase\n",
    "        for phase in ['train', 'val']:\n",
    "            if phase == 'train':\n",
    "                model.train()  # Set model to training mode\n",
    "                dataloader = train_dataloader\n",
    "            else:\n",
    "                model.eval()   # Set model to evaluate mode\n",
    "                dataloader = val_dataloader   \n",
    "            \n",
    "            running_loss = 0.0\n",
    "            running_precision = 0.0\n",
    "            \n",
    "            # Iterate over data.\n",
    "            for inputs, labels in dataloader:\n",
    "                inputs = inputs.to(device)\n",
    "                labels = labels.to(device)\n",
    "\n",
    "                # zero the parameter gradients\n",
    "                optimizer.zero_grad()\n",
    "\n",
    "                # forward\n",
    "                # track history if only in train\n",
    "                with torch.set_grad_enabled(phase == 'train'):\n",
    "                    outputs = model(inputs)\n",
    "                    loss = criterion(outputs, labels)\n",
    "                    \n",
    "                    precision = compute_precision(labels, outputs)\n",
    "\n",
    "                    # backward + optimize only if in training phase\n",
    "                    if phase == 'train':\n",
    "                        loss.backward()\n",
    "                        optimizer.step()\n",
    "                    \n",
    "                running_loss += loss.item() * inputs.size(0)\n",
    "                running_precision += precision * inputs.size(0)\n",
    "\n",
    "            if phase == 'train':\n",
    "                scheduler.step()\n",
    "                epoch_loss = running_loss / len(train_dataset)\n",
    "                epoch_precision = running_precision / len(train_dataset)\n",
    "                epoch_train_loss.append(epoch_loss)\n",
    "            else:\n",
    "                epoch_loss = running_loss / len(val_dataset)\n",
    "                epoch_precision = running_precision / len(val_dataset)\n",
    "                epoch_val_loss.append(epoch_loss)\n",
    "\n",
    "            print('{} Loss: {:.4f} Prec: {:.4f}'.format(phase, epoch_loss, epoch_precision))\n",
    "\n",
    "            # deep copy the model\n",
    "            if phase == 'val' and epoch_precision > best_prec:\n",
    "                best_prec = epoch_precision\n",
    "                best_model_wts = copy.deepcopy(model.state_dict())\n",
    "\n",
    "        print()\n",
    "\n",
    "    time_elapsed = time.time() - since\n",
    "    print('Training complete in {:.0f}m {:.0f}s'.format(time_elapsed // 60, time_elapsed % 60))\n",
    "    print('Best val Prec: {:4f}'.format(best_prec))\n",
    "\n",
    "    # load best model weights\n",
    "    model.load_state_dict(best_model_wts)\n",
    "    return model, epoch_train_loss, epoch_val_loss"
   ]
  },
  {
   "cell_type": "markdown",
   "metadata": {},
   "source": [
    "### Finetuning Resnet-50"
   ]
  },
  {
   "cell_type": "code",
   "execution_count": 11,
   "metadata": {},
   "outputs": [],
   "source": [
    "model_conv = torchvision.models.resnet50(pretrained=True)\n",
    "# model_conv = model_conv.double()\n",
    "for param in model_conv.parameters():\n",
    "    param.requires_grad = False\n",
    "\n",
    "# Parameters of newly constructed modules have requires_grad=True by default\n",
    "num_ftrs = model_conv.fc.in_features\n",
    "model_conv.fc = nn.Linear(num_ftrs, 100)\n",
    "\n",
    "model_conv = model_conv.to(device)\n",
    "\n",
    "criterion = nn.BCEWithLogitsLoss()\n",
    "\n",
    "# optimizer_conv = optim.SGD(model_conv.fc.parameters(), lr=0.001, momentum=0.9)\n",
    "optimizer_conv = optim.Adam(model_conv.fc.parameters(), lr=0.01)\n",
    "\n",
    "# Decay LR by a factor of 0.1 every 7 epochs\n",
    "exp_lr_scheduler = optim.lr_scheduler.StepLR(optimizer_conv, step_size=12, gamma=0.1)"
   ]
  },
  {
   "cell_type": "code",
   "execution_count": 12,
   "metadata": {},
   "outputs": [
    {
     "name": "stdout",
     "output_type": "stream",
     "text": [
      "Epoch 0/34\n",
      "----------\n",
      "train Loss: 0.4248 Prec: 0.0894\n",
      "val Loss: 0.8411 Prec: 0.0427\n",
      "\n",
      "Epoch 1/34\n",
      "----------\n",
      "train Loss: 0.4399 Prec: 0.0898\n",
      "val Loss: 0.8819 Prec: 0.0425\n",
      "\n",
      "Epoch 2/34\n",
      "----------\n",
      "train Loss: 0.4423 Prec: 0.0914\n",
      "val Loss: 0.9799 Prec: 0.0426\n",
      "\n",
      "Epoch 3/34\n",
      "----------\n",
      "train Loss: 0.4504 Prec: 0.0929\n",
      "val Loss: 0.9540 Prec: 0.0433\n",
      "\n",
      "Epoch 4/34\n",
      "----------\n",
      "train Loss: 0.4518 Prec: 0.0934\n",
      "val Loss: 0.8596 Prec: 0.0467\n",
      "\n",
      "Epoch 5/34\n",
      "----------\n",
      "train Loss: 0.4506 Prec: 0.0926\n",
      "val Loss: 0.9602 Prec: 0.0432\n",
      "\n",
      "Epoch 6/34\n",
      "----------\n",
      "train Loss: 0.4575 Prec: 0.0916\n",
      "val Loss: 0.8905 Prec: 0.0433\n",
      "\n",
      "Epoch 7/34\n",
      "----------\n",
      "train Loss: 0.4464 Prec: 0.0956\n",
      "val Loss: 0.8991 Prec: 0.0435\n",
      "\n",
      "Epoch 8/34\n",
      "----------\n",
      "train Loss: 0.4548 Prec: 0.0939\n",
      "val Loss: 1.1567 Prec: 0.0417\n",
      "\n",
      "Epoch 9/34\n",
      "----------\n",
      "train Loss: 0.4512 Prec: 0.0962\n",
      "val Loss: 1.0462 Prec: 0.0427\n",
      "\n",
      "Epoch 10/34\n",
      "----------\n",
      "train Loss: 0.4585 Prec: 0.0942\n",
      "val Loss: 1.0264 Prec: 0.0422\n",
      "\n",
      "Epoch 11/34\n",
      "----------\n",
      "train Loss: 0.4520 Prec: 0.0943\n",
      "val Loss: 1.0153 Prec: 0.0425\n",
      "\n",
      "Epoch 12/34\n",
      "----------\n",
      "train Loss: 0.4491 Prec: 0.0968\n",
      "val Loss: 1.0925 Prec: 0.0427\n",
      "\n",
      "Epoch 13/34\n",
      "----------\n",
      "train Loss: 0.2165 Prec: 0.1341\n",
      "val Loss: 0.6692 Prec: 0.0424\n",
      "\n",
      "Epoch 14/34\n",
      "----------\n",
      "train Loss: 0.1875 Prec: 0.1411\n",
      "val Loss: 0.5766 Prec: 0.0431\n",
      "\n",
      "Epoch 15/34\n",
      "----------\n",
      "train Loss: 0.1754 Prec: 0.1474\n",
      "val Loss: 0.5355 Prec: 0.0434\n",
      "\n",
      "Epoch 16/34\n",
      "----------\n",
      "train Loss: 0.1696 Prec: 0.1465\n",
      "val Loss: 0.5504 Prec: 0.0428\n",
      "\n",
      "Epoch 17/34\n",
      "----------\n",
      "train Loss: 0.1643 Prec: 0.1508\n",
      "val Loss: 0.5421 Prec: 0.0427\n",
      "\n",
      "Epoch 18/34\n",
      "----------\n",
      "train Loss: 0.1634 Prec: 0.1471\n",
      "val Loss: 0.5102 Prec: 0.0441\n",
      "\n",
      "Epoch 19/34\n",
      "----------\n",
      "train Loss: 0.1597 Prec: 0.1525\n",
      "val Loss: 0.5342 Prec: 0.0431\n",
      "\n",
      "Epoch 20/34\n",
      "----------\n",
      "train Loss: 0.1566 Prec: 0.1533\n",
      "val Loss: 0.4813 Prec: 0.0446\n",
      "\n",
      "Epoch 21/34\n",
      "----------\n",
      "train Loss: 0.1552 Prec: 0.1558\n",
      "val Loss: 0.4786 Prec: 0.0428\n",
      "\n",
      "Epoch 22/34\n",
      "----------\n",
      "train Loss: 0.1545 Prec: 0.1580\n",
      "val Loss: 0.4924 Prec: 0.0438\n",
      "\n",
      "Epoch 23/34\n",
      "----------\n",
      "train Loss: 0.1526 Prec: 0.1575\n",
      "val Loss: 0.4658 Prec: 0.0454\n",
      "\n",
      "Epoch 24/34\n",
      "----------\n",
      "train Loss: 0.1513 Prec: 0.1600\n",
      "val Loss: 0.4873 Prec: 0.0436\n",
      "\n",
      "Epoch 25/34\n",
      "----------\n",
      "train Loss: 0.1342 Prec: 0.1835\n",
      "val Loss: 0.4517 Prec: 0.0434\n",
      "\n",
      "Epoch 26/34\n",
      "----------\n",
      "train Loss: 0.1324 Prec: 0.1820\n",
      "val Loss: 0.4477 Prec: 0.0430\n",
      "\n",
      "Epoch 27/34\n",
      "----------\n",
      "train Loss: 0.1324 Prec: 0.1827\n",
      "val Loss: 0.4507 Prec: 0.0432\n",
      "\n",
      "Epoch 28/34\n",
      "----------\n",
      "train Loss: 0.1318 Prec: 0.1814\n",
      "val Loss: 0.4459 Prec: 0.0434\n",
      "\n",
      "Epoch 29/34\n",
      "----------\n",
      "train Loss: 0.1315 Prec: 0.1829\n",
      "val Loss: 0.4453 Prec: 0.0432\n",
      "\n",
      "Epoch 30/34\n",
      "----------\n",
      "train Loss: 0.1315 Prec: 0.1849\n",
      "val Loss: 0.4349 Prec: 0.0433\n",
      "\n",
      "Epoch 31/34\n",
      "----------\n",
      "train Loss: 0.1301 Prec: 0.1871\n",
      "val Loss: 0.4268 Prec: 0.0432\n",
      "\n",
      "Epoch 32/34\n",
      "----------\n",
      "train Loss: 0.1311 Prec: 0.1843\n",
      "val Loss: 0.4354 Prec: 0.0430\n",
      "\n",
      "Epoch 33/34\n",
      "----------\n",
      "train Loss: 0.1306 Prec: 0.1840\n",
      "val Loss: 0.4384 Prec: 0.0426\n",
      "\n",
      "Epoch 34/34\n",
      "----------\n",
      "train Loss: 0.1302 Prec: 0.1847\n",
      "val Loss: 0.4382 Prec: 0.0432\n",
      "\n",
      "Training complete in 51m 9s\n",
      "Best val Prec: 0.046700\n"
     ]
    }
   ],
   "source": [
    "model_conv, epoch_train_loss, epoch_valid_loss = train_model(model_conv, criterion, optimizer_conv, exp_lr_scheduler, num_epochs=35)\n",
    "torch.save(model_conv.state_dict(), \"model.pth\")"
   ]
  },
  {
   "cell_type": "code",
   "execution_count": 13,
   "metadata": {},
   "outputs": [
    {
     "ename": "ValueError",
     "evalue": "x and y must have same first dimension, but have shapes (10,) and (35,)",
     "output_type": "error",
     "traceback": [
      "\u001b[0;31m---------------------------------------------------------------------------\u001b[0m",
      "\u001b[0;31mValueError\u001b[0m                                Traceback (most recent call last)",
      "\u001b[0;32m<ipython-input-13-634a8ea682ad>\u001b[0m in \u001b[0;36m<module>\u001b[0;34m\u001b[0m\n\u001b[1;32m      2\u001b[0m \u001b[0;34m\u001b[0m\u001b[0m\n\u001b[1;32m      3\u001b[0m \u001b[0mx\u001b[0m \u001b[0;34m=\u001b[0m \u001b[0mnp\u001b[0m\u001b[0;34m.\u001b[0m\u001b[0marange\u001b[0m\u001b[0;34m(\u001b[0m\u001b[0;36m10\u001b[0m\u001b[0;34m)\u001b[0m\u001b[0;34m\u001b[0m\u001b[0m\n\u001b[0;32m----> 4\u001b[0;31m \u001b[0mplt\u001b[0m\u001b[0;34m.\u001b[0m\u001b[0mplot\u001b[0m\u001b[0;34m(\u001b[0m\u001b[0mx\u001b[0m\u001b[0;34m,\u001b[0m \u001b[0mepoch_train_loss\u001b[0m\u001b[0;34m,\u001b[0m \u001b[0;34m'g'\u001b[0m\u001b[0;34m,\u001b[0m \u001b[0mlabel\u001b[0m\u001b[0;34m=\u001b[0m\u001b[0;34m'Train Loss'\u001b[0m\u001b[0;34m)\u001b[0m\u001b[0;34m\u001b[0m\u001b[0m\n\u001b[0m\u001b[1;32m      5\u001b[0m \u001b[0mplt\u001b[0m\u001b[0;34m.\u001b[0m\u001b[0mplot\u001b[0m\u001b[0;34m(\u001b[0m\u001b[0mx\u001b[0m\u001b[0;34m,\u001b[0m \u001b[0mepoch_val_loss\u001b[0m\u001b[0;34m,\u001b[0m \u001b[0;34m'b'\u001b[0m\u001b[0;34m,\u001b[0m \u001b[0mlabel\u001b[0m\u001b[0;34m=\u001b[0m\u001b[0;34m'Val Loss'\u001b[0m\u001b[0;34m)\u001b[0m\u001b[0;34m\u001b[0m\u001b[0m\n\u001b[1;32m      6\u001b[0m \u001b[0mplt\u001b[0m\u001b[0;34m.\u001b[0m\u001b[0mlegend\u001b[0m\u001b[0;34m(\u001b[0m\u001b[0;34m)\u001b[0m\u001b[0;34m\u001b[0m\u001b[0m\n",
      "\u001b[0;32m~/torch4env/lib/python3.5/site-packages/matplotlib/pyplot.py\u001b[0m in \u001b[0;36mplot\u001b[0;34m(scalex, scaley, data, *args, **kwargs)\u001b[0m\n\u001b[1;32m   2811\u001b[0m     return gca().plot(\n\u001b[1;32m   2812\u001b[0m         *args, scalex=scalex, scaley=scaley, **({\"data\": data} if data\n\u001b[0;32m-> 2813\u001b[0;31m         is not None else {}), **kwargs)\n\u001b[0m\u001b[1;32m   2814\u001b[0m \u001b[0;34m\u001b[0m\u001b[0m\n\u001b[1;32m   2815\u001b[0m \u001b[0;34m\u001b[0m\u001b[0m\n",
      "\u001b[0;32m~/torch4env/lib/python3.5/site-packages/matplotlib/__init__.py\u001b[0m in \u001b[0;36minner\u001b[0;34m(ax, data, *args, **kwargs)\u001b[0m\n\u001b[1;32m   1808\u001b[0m                         \u001b[0;34m\"the Matplotlib list!)\"\u001b[0m \u001b[0;34m%\u001b[0m \u001b[0;34m(\u001b[0m\u001b[0mlabel_namer\u001b[0m\u001b[0;34m,\u001b[0m \u001b[0mfunc\u001b[0m\u001b[0;34m.\u001b[0m\u001b[0m__name__\u001b[0m\u001b[0;34m)\u001b[0m\u001b[0;34m,\u001b[0m\u001b[0;34m\u001b[0m\u001b[0m\n\u001b[1;32m   1809\u001b[0m                         RuntimeWarning, stacklevel=2)\n\u001b[0;32m-> 1810\u001b[0;31m             \u001b[0;32mreturn\u001b[0m \u001b[0mfunc\u001b[0m\u001b[0;34m(\u001b[0m\u001b[0max\u001b[0m\u001b[0;34m,\u001b[0m \u001b[0;34m*\u001b[0m\u001b[0margs\u001b[0m\u001b[0;34m,\u001b[0m \u001b[0;34m**\u001b[0m\u001b[0mkwargs\u001b[0m\u001b[0;34m)\u001b[0m\u001b[0;34m\u001b[0m\u001b[0m\n\u001b[0m\u001b[1;32m   1811\u001b[0m \u001b[0;34m\u001b[0m\u001b[0m\n\u001b[1;32m   1812\u001b[0m         inner.__doc__ = _add_data_doc(inner.__doc__,\n",
      "\u001b[0;32m~/torch4env/lib/python3.5/site-packages/matplotlib/axes/_axes.py\u001b[0m in \u001b[0;36mplot\u001b[0;34m(self, scalex, scaley, *args, **kwargs)\u001b[0m\n\u001b[1;32m   1609\u001b[0m         \u001b[0mkwargs\u001b[0m \u001b[0;34m=\u001b[0m \u001b[0mcbook\u001b[0m\u001b[0;34m.\u001b[0m\u001b[0mnormalize_kwargs\u001b[0m\u001b[0;34m(\u001b[0m\u001b[0mkwargs\u001b[0m\u001b[0;34m,\u001b[0m \u001b[0mmlines\u001b[0m\u001b[0;34m.\u001b[0m\u001b[0mLine2D\u001b[0m\u001b[0;34m.\u001b[0m\u001b[0m_alias_map\u001b[0m\u001b[0;34m)\u001b[0m\u001b[0;34m\u001b[0m\u001b[0m\n\u001b[1;32m   1610\u001b[0m \u001b[0;34m\u001b[0m\u001b[0m\n\u001b[0;32m-> 1611\u001b[0;31m         \u001b[0;32mfor\u001b[0m \u001b[0mline\u001b[0m \u001b[0;32min\u001b[0m \u001b[0mself\u001b[0m\u001b[0;34m.\u001b[0m\u001b[0m_get_lines\u001b[0m\u001b[0;34m(\u001b[0m\u001b[0;34m*\u001b[0m\u001b[0margs\u001b[0m\u001b[0;34m,\u001b[0m \u001b[0;34m**\u001b[0m\u001b[0mkwargs\u001b[0m\u001b[0;34m)\u001b[0m\u001b[0;34m:\u001b[0m\u001b[0;34m\u001b[0m\u001b[0m\n\u001b[0m\u001b[1;32m   1612\u001b[0m             \u001b[0mself\u001b[0m\u001b[0;34m.\u001b[0m\u001b[0madd_line\u001b[0m\u001b[0;34m(\u001b[0m\u001b[0mline\u001b[0m\u001b[0;34m)\u001b[0m\u001b[0;34m\u001b[0m\u001b[0m\n\u001b[1;32m   1613\u001b[0m             \u001b[0mlines\u001b[0m\u001b[0;34m.\u001b[0m\u001b[0mappend\u001b[0m\u001b[0;34m(\u001b[0m\u001b[0mline\u001b[0m\u001b[0;34m)\u001b[0m\u001b[0;34m\u001b[0m\u001b[0m\n",
      "\u001b[0;32m~/torch4env/lib/python3.5/site-packages/matplotlib/axes/_base.py\u001b[0m in \u001b[0;36m_grab_next_args\u001b[0;34m(self, *args, **kwargs)\u001b[0m\n\u001b[1;32m    391\u001b[0m                 \u001b[0mthis\u001b[0m \u001b[0;34m+=\u001b[0m \u001b[0margs\u001b[0m\u001b[0;34m[\u001b[0m\u001b[0;36m0\u001b[0m\u001b[0;34m]\u001b[0m\u001b[0;34m,\u001b[0m\u001b[0;34m\u001b[0m\u001b[0m\n\u001b[1;32m    392\u001b[0m                 \u001b[0margs\u001b[0m \u001b[0;34m=\u001b[0m \u001b[0margs\u001b[0m\u001b[0;34m[\u001b[0m\u001b[0;36m1\u001b[0m\u001b[0;34m:\u001b[0m\u001b[0;34m]\u001b[0m\u001b[0;34m\u001b[0m\u001b[0m\n\u001b[0;32m--> 393\u001b[0;31m             \u001b[0;32myield\u001b[0m \u001b[0;32mfrom\u001b[0m \u001b[0mself\u001b[0m\u001b[0;34m.\u001b[0m\u001b[0m_plot_args\u001b[0m\u001b[0;34m(\u001b[0m\u001b[0mthis\u001b[0m\u001b[0;34m,\u001b[0m \u001b[0mkwargs\u001b[0m\u001b[0;34m)\u001b[0m\u001b[0;34m\u001b[0m\u001b[0m\n\u001b[0m\u001b[1;32m    394\u001b[0m \u001b[0;34m\u001b[0m\u001b[0m\n\u001b[1;32m    395\u001b[0m \u001b[0;34m\u001b[0m\u001b[0m\n",
      "\u001b[0;32m~/torch4env/lib/python3.5/site-packages/matplotlib/axes/_base.py\u001b[0m in \u001b[0;36m_plot_args\u001b[0;34m(self, tup, kwargs)\u001b[0m\n\u001b[1;32m    368\u001b[0m             \u001b[0mx\u001b[0m\u001b[0;34m,\u001b[0m \u001b[0my\u001b[0m \u001b[0;34m=\u001b[0m \u001b[0mindex_of\u001b[0m\u001b[0;34m(\u001b[0m\u001b[0mtup\u001b[0m\u001b[0;34m[\u001b[0m\u001b[0;34m-\u001b[0m\u001b[0;36m1\u001b[0m\u001b[0;34m]\u001b[0m\u001b[0;34m)\u001b[0m\u001b[0;34m\u001b[0m\u001b[0m\n\u001b[1;32m    369\u001b[0m \u001b[0;34m\u001b[0m\u001b[0m\n\u001b[0;32m--> 370\u001b[0;31m         \u001b[0mx\u001b[0m\u001b[0;34m,\u001b[0m \u001b[0my\u001b[0m \u001b[0;34m=\u001b[0m \u001b[0mself\u001b[0m\u001b[0;34m.\u001b[0m\u001b[0m_xy_from_xy\u001b[0m\u001b[0;34m(\u001b[0m\u001b[0mx\u001b[0m\u001b[0;34m,\u001b[0m \u001b[0my\u001b[0m\u001b[0;34m)\u001b[0m\u001b[0;34m\u001b[0m\u001b[0m\n\u001b[0m\u001b[1;32m    371\u001b[0m \u001b[0;34m\u001b[0m\u001b[0m\n\u001b[1;32m    372\u001b[0m         \u001b[0;32mif\u001b[0m \u001b[0mself\u001b[0m\u001b[0;34m.\u001b[0m\u001b[0mcommand\u001b[0m \u001b[0;34m==\u001b[0m \u001b[0;34m'plot'\u001b[0m\u001b[0;34m:\u001b[0m\u001b[0;34m\u001b[0m\u001b[0m\n",
      "\u001b[0;32m~/torch4env/lib/python3.5/site-packages/matplotlib/axes/_base.py\u001b[0m in \u001b[0;36m_xy_from_xy\u001b[0;34m(self, x, y)\u001b[0m\n\u001b[1;32m    229\u001b[0m         \u001b[0;32mif\u001b[0m \u001b[0mx\u001b[0m\u001b[0;34m.\u001b[0m\u001b[0mshape\u001b[0m\u001b[0;34m[\u001b[0m\u001b[0;36m0\u001b[0m\u001b[0;34m]\u001b[0m \u001b[0;34m!=\u001b[0m \u001b[0my\u001b[0m\u001b[0;34m.\u001b[0m\u001b[0mshape\u001b[0m\u001b[0;34m[\u001b[0m\u001b[0;36m0\u001b[0m\u001b[0;34m]\u001b[0m\u001b[0;34m:\u001b[0m\u001b[0;34m\u001b[0m\u001b[0m\n\u001b[1;32m    230\u001b[0m             raise ValueError(\"x and y must have same first dimension, but \"\n\u001b[0;32m--> 231\u001b[0;31m                              \"have shapes {} and {}\".format(x.shape, y.shape))\n\u001b[0m\u001b[1;32m    232\u001b[0m         \u001b[0;32mif\u001b[0m \u001b[0mx\u001b[0m\u001b[0;34m.\u001b[0m\u001b[0mndim\u001b[0m \u001b[0;34m>\u001b[0m \u001b[0;36m2\u001b[0m \u001b[0;32mor\u001b[0m \u001b[0my\u001b[0m\u001b[0;34m.\u001b[0m\u001b[0mndim\u001b[0m \u001b[0;34m>\u001b[0m \u001b[0;36m2\u001b[0m\u001b[0;34m:\u001b[0m\u001b[0;34m\u001b[0m\u001b[0m\n\u001b[1;32m    233\u001b[0m             raise ValueError(\"x and y can be no greater than 2-D, but have \"\n",
      "\u001b[0;31mValueError\u001b[0m: x and y must have same first dimension, but have shapes (10,) and (35,)"
     ]
    },
    {
     "data": {
      "image/png": "[encoded data removed]",
      "text/plain": [
       "<Figure size 432x288 with 1 Axes>"
      ]
     },
     "metadata": {
      "needs_background": "light"
     },
     "output_type": "display_data"
    }
   ],
   "source": [
    "import matplotlib.pyplot as plt\n",
    "\n",
    "x = np.arange(10)\n",
    "plt.plot(x, epoch_train_loss, 'g', label='Train Loss')\n",
    "plt.plot(x, epoch_val_loss, 'b', label='Val Loss')\n",
    "plt.legend()"
   ]
  },
  {
   "cell_type": "code",
   "execution_count": null,
   "metadata": {},
   "outputs": [],
   "source": [
    "for g in optim.param_groups:\n",
    "    g['lr'] = 0.0001"
   ]
  },
  {
   "cell_type": "code",
   "execution_count": null,
   "metadata": {},
   "outputs": [],
   "source": [
    "model_conv, epoch_train_loss, epoch_valid_loss = train_model(model_conv, criterion, optimizer_conv, exp_lr_scheduler, num_epochs=35)\n",
    "torch.save(model_conv.state_dict(), \"model.pth\")"
   ]
  },
  {
   "cell_type": "code",
   "execution_count": null,
   "metadata": {},
   "outputs": [],
   "source": []
  }
 ],
 "metadata": {
  "kernelspec": {
   "display_name": "Python 3",
   "language": "python",
   "name": "python3"
  },
  "language_info": {
   "codemirror_mode": {
    "name": "ipython",
    "version": 3
   },
   "file_extension": ".py",
   "mimetype": "text/x-python",
   "name": "python",
   "nbconvert_exporter": "python",
   "pygments_lexer": "ipython3",
   "version": "3.6.9"
  }
 },
 "nbformat": 4,
 "nbformat_minor": 2
}