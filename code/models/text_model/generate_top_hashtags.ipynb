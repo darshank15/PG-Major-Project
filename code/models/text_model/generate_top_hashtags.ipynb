{
 "cells": [
  {
   "cell_type": "code",
   "execution_count": 23,
   "metadata": {},
   "outputs": [],
   "source": [
    "import os\n",
    "import json\n",
    "import nltk\n",
    "import operator\n",
    "from nltk.corpus import wordnet\n",
    "# nltk.download('wordnet')"
   ]
  },
  {
   "cell_type": "code",
   "execution_count": 28,
   "metadata": {},
   "outputs": [],
   "source": [
    "files = []\n",
    "for r, d, f in os.walk(\"./jsons/nature\"):\n",
    "    for file in f:\n",
    "        if '.json' in file:\n",
    "            files.append(os.path.join(r, file))"
   ]
  },
  {
   "cell_type": "code",
   "execution_count": 29,
   "metadata": {},
   "outputs": [],
   "source": [
    "hash_count = {}\n",
    "for f in files:\n",
    "\twith open(f) as json_file:\n",
    "\t\tpost_data = json.load(json_file)\n",
    "\t\tfor post_id in post_data.keys():\n",
    "\t\t\ttext = post_data[post_id][\"text_des\"]\n",
    "\t\t\ttext = text.lower()\n",
    "\t\t\twords = text.split(\" \")\n",
    "\t\t\tlocal_hash_count = set()\n",
    "\t\t\tfor word in words:\n",
    "\t\t\t\tif word == \"\":\n",
    "\t\t\t\t\tcontinue\n",
    "\t\t\t\tif word[0]=='#':\n",
    "\t\t\t\t\tif wordnet.synsets(word[1:]):\n",
    "\t\t\t\t\t\tlocal_hash_count.add(word)\n",
    "\n",
    "\t\t\tfor item in local_hash_count:\n",
    "\t\t\t\tif item not in hash_count:\n",
    "\t\t\t\t\thash_count[item] = 0\n",
    "\t\t\t\thash_count[item]=hash_count[item]+1"
   ]
  },
  {
   "cell_type": "code",
   "execution_count": 30,
   "metadata": {},
   "outputs": [],
   "source": [
    "# print(hash_count)\n",
    "sorted_x = sorted(hash_count.items(), key=operator.itemgetter(1), reverse=True)"
   ]
  },
  {
   "cell_type": "code",
   "execution_count": 31,
   "metadata": {},
   "outputs": [
    {
     "name": "stdout",
     "output_type": "stream",
     "text": [
      "['#nature', '#photography', '#landscape', '#travel', '#beautiful', '#love', '#autumn', '#photo', '#sky', '#photographer', '#mountains', '#sunset', '#outdoors', '#clouds', '#art', '#flowers', '#beauty', '#tree', '#wanderlust', '#follow', '#amazing', '#adventure', '#trees', '#forest', '#view', '#explore', '#green', '#summer', '#life', '#sun', '#hiking', '#colors', '#wildlife', '#mountain', '#travelling', '#fashion', '#like', '#canon', '#trip', '#sea', '#ig', '#happy', '#water', '#natural', '#fall', '#outdoor', '#beach', '#style', '#traveling', '#fun', '#blue', '#landscapes', '#sunrise', '#flower', '#animals', '#lake', '#cute', '#picture', '#macro', '#me', '#river', '#earth', '#natures', '#friends', '#leaves', '#followers', '#vacation', '#plants', '#weather', '#smile', '#garden', '#india', '#girl', '#pic', '#november', '#photos', '#world', '#wild', '#birds', '#model', '#traveller', '#peace', '#lifestyle', '#bird', '#walk', '#animal', '#holiday', '#discover', '#trekking', '#portrait', '#morning', '#nice', '#sunday', '#ocean', '#sunsets', '#traveler', '#fitness', '#rain', '#italy', '#winter']\n"
     ]
    }
   ],
   "source": [
    "count=0\n",
    "top_hashtags = []\n",
    "for i in sorted_x:\n",
    "    if count>=100:\n",
    "        break\n",
    "    count=count+1\n",
    "\n",
    "#     top_hashtags.append([i[0],i[1]])\n",
    "    top_hashtags.append(i[0])\n",
    "\n",
    "# print(top_hashtags)\n",
    "for i in top_hashtags:\n",
    "    pass\n",
    "#     print(\"'\",i[0],\"'\")\n",
    "#     print(i[0],\" \",i[1])\n",
    "print(top_hashtags)"
   ]
  },
  {
   "cell_type": "code",
   "execution_count": null,
   "metadata": {},
   "outputs": [],
   "source": []
  }
 ],
 "metadata": {
  "kernelspec": {
   "display_name": "Python 3",
   "language": "python",
   "name": "python3"
  },
  "language_info": {
   "codemirror_mode": {
    "name": "ipython",
    "version": 3
   },
   "file_extension": ".py",
   "mimetype": "text/x-python",
   "name": "python",
   "nbconvert_exporter": "python",
   "pygments_lexer": "ipython3",
   "version": "3.6.8"
  }
 },
 "nbformat": 4,
 "nbformat_minor": 2
}
